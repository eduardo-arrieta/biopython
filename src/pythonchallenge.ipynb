{
 "cells": [
  {
   "cell_type": "markdown",
   "metadata": {},
   "source": [
    "### README\n",
    "\n",
    "Eduardo Arrieta\n",
    "En cada celda dejé como comentarios lo uqe hice/pensé/atoré.\n",
    "Me gustó mucho la actividad, que el juego que obligue a buscar cómo usar librerías de python lo encontré tedioso, pero interesante.\n",
    "\n",
    "Comprendí que me falta MUCHO por saber de python\n"
   ]
  },
  {
   "cell_type": "code",
   "execution_count": 1,
   "metadata": {},
   "outputs": [
    {
     "data": {
      "text/plain": [
       "274877906944"
      ]
     },
     "execution_count": 1,
     "metadata": {},
     "output_type": "execute_result"
    }
   ],
   "source": [
    "2**38"
   ]
  },
  {
   "cell_type": "code",
   "execution_count": 2,
   "metadata": {},
   "outputs": [
    {
     "name": "stdout",
     "output_type": "stream",
     "text": [
      "i hope you didnt translate it by hand. thats what computers are for. doing it in by hand is inefficient and that's why this text is so long. using string.maketrans() is recommended. now apply on the url.\n",
      "ocr\n"
     ]
    }
   ],
   "source": [
    "# A ventar todos más dos en UNICODE\n",
    "stri = \"g fmnc wms bgblr rpylqjyrc gr zw fylb. rfyrq ufyr amknsrcpq ypc dmp. bmgle gr gl zw fylb gq glcddgagclr ylb rfyr'q ufw rfgq rcvr gq qm jmle. sqgle qrpgle.kyicrpylq() gq pcamkkclbcb. lmu ynnjw ml rfc spj.\"\n",
    "abc = 'abcdefghijklmnopqrstuvwxyz'\n",
    "nABC = 'cdefghijklmnopqrstuvwxyzab'\n",
    "mapeo = stri.maketrans(abc, nABC)\n",
    "print(stri.translate(mapeo))\n",
    "\n",
    "url = 'map'\n",
    "mapeo2 = url.maketrans(abc, nABC)\n",
    "print(url.translate(mapeo2))"
   ]
  },
  {
   "cell_type": "code",
   "execution_count": 13,
   "metadata": {},
   "outputs": [
    {
     "name": "stdout",
     "output_type": "stream",
     "text": [
      "equality\n"
     ]
    }
   ],
   "source": [
    "# No lo logré resolver el problema implementando OCR, así que me fui al código fuente\n",
    "# OCR tuvo problemas con las librerías\n",
    "import re\n",
    "\n",
    "# Abro el fragmento del código fuente que contiene\n",
    "with open('codigofuente.txt') as file:\n",
    "    # Lo convierto en srt\n",
    "    file = file.read() \n",
    "\n",
    "# Saco solo las letras, las devuelve en lista\n",
    "texto = re.findall('[A-Za-z]', file)\n",
    "# Las uno en un str\n",
    "texto = ''.join(texto)\n",
    "print(texto)"
   ]
  },
  {
   "cell_type": "code",
   "execution_count": 1,
   "metadata": {},
   "outputs": [
    {
     "name": "stdout",
     "output_type": "stream",
     "text": [
      "linkedlist\n"
     ]
    }
   ],
   "source": [
    "import re\n",
    "\n",
    "with open('threeguards.html') as file:\n",
    "    file = file.read()\n",
    "\n",
    "# Esta expresión regular me costó mucho trabajo pensarla\n",
    "texto = re.findall('[^A-Z]+[A-Z]{3}([a-z])[A-Z]{3}[^A-Z]+', file)\n",
    "texto = ''.join(texto)\n",
    "print(texto)\n",
    "# Aú no domino bien las expresiones regulares"
   ]
  },
  {
   "cell_type": "code",
   "execution_count": 51,
   "metadata": {},
   "outputs": [
    {
     "name": "stdout",
     "output_type": "stream",
     "text": [
      "16044\n",
      "b'Yes. Divide by two and keep going.'\n"
     ]
    },
    {
     "name": "stdin",
     "output_type": "stream",
     "text": [
      "Nuevo nothing 8022\n"
     ]
    },
    {
     "name": "stdout",
     "output_type": "stream",
     "text": [
      "82683\n",
      "b\"You've been misleaded to here. Go to previous \\none and check.\"\n"
     ]
    },
    {
     "name": "stdin",
     "output_type": "stream",
     "text": [
      "Nuevo nothing 63579\n"
     ]
    },
    {
     "name": "stdout",
     "output_type": "stream",
     "text": [
      "66831\n",
      "b'peak.html'\n"
     ]
    },
    {
     "name": "stdin",
     "output_type": "stream",
     "text": [
      "Nuevo nothing stop\n"
     ]
    }
   ],
   "source": [
    "import urllib\n",
    "import re \n",
    "import winsound\n",
    "\n",
    "base = 'http://www.pythonchallenge.com/pc/def/linkedlist.php?nothing='\n",
    "nothing = '12345'\n",
    "lotNothing = list()\n",
    "\n",
    "# Cada vez que me pedía un nuevo nothing se lo coccatenaba a la url\n",
    "for i in range(1000):\n",
    "    some = urllib.request.urlopen(base + nothing)\n",
    "    some = some.read()\n",
    "    some = str(some)\n",
    "    # Aqui sacaba el nuevo con expresione regulares\n",
    "    newNothing = re.findall('(\\d+)', some)\n",
    "    \n",
    "    # Si la lista estaba vacía era porque era puro texto\n",
    "    if not newNothing:\n",
    "        # Me imprimía con el que se atoró\n",
    "        print(nothing)\n",
    "        # La instrucción\n",
    "        print(some)\n",
    "        # Me aviasba porque tardaba mucho\n",
    "        winsound.Beep(440, 500)\n",
    "        # Ingresaba el nuevo\n",
    "        nothing = input('Nuevo nothing')\n",
    "        # Para pararlo manuelamente\n",
    "        if nothing == 'stop':\n",
    "            break\n",
    "    # Si no pasaba nada, sepuia\n",
    "    else:\n",
    "        nothing = newNothing[0]\n",
    "        # Pidió uno anterior, por eso los tuve que almacenar\n",
    "        lotNothing.append(nothing)"
   ]
  },
  {
   "cell_type": "code",
   "execution_count": 50,
   "metadata": {},
   "outputs": [
    {
     "data": {
      "text/plain": [
       "'82682'"
      ]
     },
     "execution_count": 50,
     "metadata": {},
     "output_type": "execute_result"
    }
   ],
   "source": [
    "# Como no me esperaba esto, tuve que volver a correr el código ya con este nuevo\n",
    "lotNothing[-2]"
   ]
  },
  {
   "cell_type": "code",
   "execution_count": 43,
   "metadata": {},
   "outputs": [
    {
     "name": "stdout",
     "output_type": "stream",
     "text": [
      "                                                                                               \n",
      "              #####                                                                      ##### \n",
      "               ####                                                                       #### \n",
      "               ####                                                                       #### \n",
      "               ####                                                                       #### \n",
      "               ####                                                                       #### \n",
      "               ####                                                                       #### \n",
      "               ####                                                                       #### \n",
      "               ####                                                                       #### \n",
      "      ###      ####   ###         ###       #####   ###    #####   ###          ###       #### \n",
      "   ###   ##    #### #######     ##  ###      #### #######   #### #######     ###  ###     #### \n",
      "  ###     ###  #####    ####   ###   ####    #####    ####  #####    ####   ###     ###   #### \n",
      " ###           ####     ####   ###    ###    ####     ####  ####     ####  ###      ####  #### \n",
      " ###           ####     ####          ###    ####     ####  ####     ####  ###       ###  #### \n",
      "####           ####     ####     ##   ###    ####     ####  ####     #### ####       ###  #### \n",
      "####           ####     ####   ##########    ####     ####  ####     #### ##############  #### \n",
      "####           ####     ####  ###    ####    ####     ####  ####     #### ####            #### \n",
      "####           ####     #### ####     ###    ####     ####  ####     #### ####            #### \n",
      " ###           ####     #### ####     ###    ####     ####  ####     ####  ###            #### \n",
      "  ###      ##  ####     ####  ###    ####    ####     ####  ####     ####   ###      ##   #### \n",
      "   ###    ##   ####     ####   ###########   ####     ####  ####     ####    ###    ##    #### \n",
      "      ###     ######    #####    ##    #### ######    ###########    #####      ###      ######\n",
      "                                                                                               \n"
     ]
    }
   ],
   "source": [
    "# Google me ayudó al escribir pic en el buscador\n",
    "# Me salio picke python y l edí clic\n",
    "import pickle\n",
    "import urllib\n",
    "\n",
    "# INtenté descargarlo, pero creo que lo convertía a algo más, así que mejor lo pedí con urllib\n",
    "source = urllib.request.urlopen('http://www.pythonchallenge.com/pc/def/banner.p')\n",
    "\n",
    "obejeto = pickle.Unpickler(source)\n",
    "mapeo = obejeto.load()\n",
    "\n",
    "# Como vi que era como coordenadas, decidí pintarkas por renglones\n",
    "unaLista = list()\n",
    "for i in mapeo:\n",
    "    # Aqui voy a agarrar a ambos elementos de la tupla\n",
    "    for j, k in i:\n",
    "        unaLista.append(j*k)\n",
    "    # Pintar el primer renglón\n",
    "    print(''.join(unaLista))\n",
    "    # La vacío para el siguiente renglón\n",
    "    unaLista = list()\n",
    "    \n",
    "# Este me costó al saber para qué servía pickle\n",
    "# Me costó imaginarmelo, pero la librería sobre pickle en python me ayudó\n",
    "# https://docs.python.org/3/library/pickle.html\n",
    "# Por accidente me spoileé con una imagen, perdón, pero ya sabía que eran instrucciones\n",
    "# Hasta aquí me quedé"
   ]
  },
  {
   "cell_type": "code",
   "execution_count": null,
   "metadata": {},
   "outputs": [],
   "source": [
    "# Me pdió donarle, no sé si sea otro reto\n",
    "url = 'http://www.pythonchallenge.com/pc/def/channel.html'"
   ]
  }
 ],
 "metadata": {
  "kernelspec": {
   "display_name": "Python 3",
   "language": "python",
   "name": "python3"
  },
  "language_info": {
   "codemirror_mode": {
    "name": "ipython",
    "version": 3
   },
   "file_extension": ".py",
   "mimetype": "text/x-python",
   "name": "python",
   "nbconvert_exporter": "python",
   "pygments_lexer": "ipython3",
   "version": "3.7.6"
  }
 },
 "nbformat": 4,
 "nbformat_minor": 4
}
