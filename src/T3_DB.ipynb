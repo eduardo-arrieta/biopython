{
 "cells": [
  {
   "cell_type": "markdown",
   "metadata": {},
   "source": [
    "# Tarea 3: Bases de datos \n",
    "### <span style=\"color:blue\"> Eduardo Alejandro Arrieta Donato</span> \n",
    "## índice\n",
    "+ <a href=\"#Presentacion\" style=\"color:pink\">Presentación</a>\n",
    "+ <a href=\"#Ejercicio_1\" style=\"color:pink\">Ejercicio 1</a>\n",
    "+ <a href=\"#Ejercicio_2\" style=\"color:pink\">Ejercicio 2</a>\n",
    "+ <a href=\"#Ejercicio_3\" style=\"color:pink\">Ejercicio 3</a>\n",
    "+ <a href=\"#Ejercicio_4\" style=\"color:pink\">Ejercicio 4</a>\n",
    "+ <a href=\"#DONTCLICKME\" style=\"color:pink\">DON´T CLICKME</a>"
   ]
  },
  {
   "cell_type": "markdown",
   "metadata": {},
   "source": [
    "<a id=\"Presentacion\"></a>\n",
    "## <span style=\"color:yellow\"> Presentación</span>\n",
    "Hola, esta es mi tarea3 del curso.\n",
    "\n",
    "Cada ejercicio resulto viene con sus indicaciones generales y libertades que se tomaron.\n",
    "\n",
    "Cada celda ocupada para resolver tendrá sus respectiva documentación de código.\n",
    "\n",
    "Todos los $INPUTS$ serán *in-cell*, pues considero sucio hacerlo con `input()`, los inputos se destacaran con la leyenda <span style=\"color:orange\"> *'''INPUT'''*</span>"
   ]
  },
  {
   "cell_type": "markdown",
   "metadata": {},
   "source": [
    "<a id=\"Ejercicio_1\"></a>\n",
    "\n",
    "## <span style=\"color:yellow\"> Ejercicio_1</span>\n",
    "Arreglar el código para que solo muestre las cominaciones únicas"
   ]
  },
  {
   "cell_type": "markdown",
   "metadata": {},
   "source": [
    "<span style=\"color:green\">Cambié un for normal por una comprehention list.</span>"
   ]
  },
  {
   "cell_type": "code",
   "execution_count": 1,
   "metadata": {},
   "outputs": [
    {
     "name": "stdout",
     "output_type": "stream",
     "text": [
      "possible di-sulfide bond: Cys 155 - Cys 181 2.0\n",
      "possible di-sulfide bond: Cys 257 - Cys 338 2.03\n",
      "possible di-sulfide bond: Cys 515 - Cys 541 2.02\n",
      "possible di-sulfide bond: Cys 618 - Cys 699 2.03\n",
      "possible di-sulfide bond: Cys 855 - Cys 881 2.02\n"
     ]
    }
   ],
   "source": [
    "import Bio.PDB.PDBParser\n",
    "\n",
    "'''INPUT'''\n",
    "file = '1kcw.pdb'\n",
    "\n",
    "name = file.replace('.pdb', '').upper()\n",
    "\n",
    "parser = Bio.PDB.PDBParser(QUIET=True)\n",
    "structure = parser.get_structure(name, file)\n",
    "model = structure[0]\n",
    "achain = model['A']\n",
    "\n",
    "#Voy por cada residuo hasta encontrar CYS\n",
    "cysresidues = [residue for residue in achain if residue.get_resname() == 'CYS']\n",
    "\n",
    "\n",
    "\n",
    "# Veo todos los residuos y sus combinaciones. Como vimos anteriormente, al restar átomos nos da la distancia\n",
    "# Guardaremos los repetidos en set para llevar un control\n",
    "repertidos = set()\n",
    "for c1 in cysresidues:\n",
    "    c1index = c1.get_id()[1]\n",
    "    for c2 in cysresidues:\n",
    "        c2index = c2.get_id()[1]\n",
    "        \n",
    "        # Si son el mismo o ys se encuntra en los repetidos, entonces lo saltará\n",
    "        if c1index == c2index or c2index in repertidos:\n",
    "            continue\n",
    "            \n",
    "        #Estoy enteresada en el átomo de SG \"sulfur-gamma\"\n",
    "        if (c1['SG'] - c2['SG']) < 8.0:\n",
    "            print(\"possible di-sulfide bond:\", end=\" \")\n",
    "            print(\"Cys\", c1index, \"-\" , end=\" \")\n",
    "            print(\"Cys\", c2index, end=\" \")\n",
    "            print(round(c1['SG'] - c2['SG'], 2))\n",
    "            \n",
    "    # Lo agrega a los repetidos\n",
    "    repertidos.add(c1index)\n",
    "\n",
    "# Pa' que o guardo\n",
    "del repertidos"
   ]
  },
  {
   "cell_type": "markdown",
   "metadata": {},
   "source": [
    "<a id=\"Ejercicio_2\"></a>\n",
    "\n",
    "## <span style=\"color:yellow\"> Ejercicio_2</span>\n",
    "BS3 es un agente entrecruzante impermeable a la membrana plasmática. Sirve para el estudio de interacciones de proteínas de membrana plasmática con residuos de lisina accesibles desde el medio extracelular.\n",
    "\n",
    "+ Encuentren los pares de lisinas que podrían ser unidas utilizando BS3\n",
    "\n",
    "La distancia suele ser menor a 12 Å"
   ]
  },
  {
   "cell_type": "code",
   "execution_count": 2,
   "metadata": {},
   "outputs": [
    {
     "name": "stdout",
     "output_type": "stream",
     "text": [
      "LYS 12 en A y LYS 7 en B están 11.294949531555176\n"
     ]
    }
   ],
   "source": [
    "from Bio.PDB.Polypeptide import is_aa\n",
    "import Bio.PDB.PDBParser\n",
    "\n",
    "'''INPUT'''\n",
    "file = '1ce0.pdb'\n",
    "\n",
    "name = file.replace('.pdb', '').upper()\n",
    "\n",
    "# Genero el parser\n",
    "parser = Bio.PDB.PDBParser(QUIET=True)\n",
    "# Extraigo la estructura desde el documento\n",
    "structure = parser.get_structure(name, file)\n",
    "\n",
    "# Obtengo ambas cadenas\n",
    "achain = structure[0]['A']\n",
    "bchain = structure[0]['B']\n",
    "\n",
    "#Obtengo la lista de vecinos en la cadena B si son lisinas\n",
    "bchainNZ = [r['NZ'] for r in bchain if is_aa(r) and r.get_resname() == 'LYS']\n",
    "neighbors = Bio.PDB.NeighborSearch(bchainNZ)\n",
    "\n",
    "# Recorro la A\n",
    "for res1 in achain:\n",
    "    # Unicamente si son lisisnas\n",
    "    if is_aa(res1) and res1.get_resname() == 'LYS':\n",
    "        # Obtengo su átomo colita y demás info\n",
    "        r1_NZ = res1['NZ']\n",
    "        r1_ind = res1.get_id()[1]\n",
    "        r1_sym = res1.get_resname()\n",
    "        # Recorro su relación con la lista de vecinos de B con un radio menor a 12\n",
    "        for r2_NZ in neighbors.search(r1_NZ.get_coord(), 12.0):\n",
    "            # Obtengo el residuo y demás info\n",
    "            res2 = r2_NZ.get_parent()\n",
    "            r2_ind = res2.get_id()[1]\n",
    "            r2_sym = res2.get_resname()\n",
    "            \n",
    "            # Imprimo resultados\n",
    "            print(f'{r1_sym} {r1_ind} en A y {r2_sym} {r2_ind} en B están {r1_NZ - r2_NZ}')"
   ]
  },
  {
   "cell_type": "markdown",
   "metadata": {},
   "source": [
    "<a id=\"Ejercicio_3\"></a>\n",
    "\n",
    "## <span style=\"color:yellow\"> Ejercicio_3</span>\n",
    "Utilizando Entrez.einfo y Entrez.read, imprime la descripción de:\n",
    "    \n",
    "    \n",
    "+ field **'ECNO'**\n",
    "+ link **'protein_protein_small_genome'**\n",
    "    \n",
    "    \n",
    "de la base de datos 'protein'"
   ]
  },
  {
   "cell_type": "code",
   "execution_count": 1,
   "metadata": {},
   "outputs": [
    {
     "name": "stdout",
     "output_type": "stream",
     "text": [
      "EC number for enzyme or CAS registry number\n",
      "All proteins from this genome\n"
     ]
    }
   ],
   "source": [
    "from Bio import Entrez\n",
    "\n",
    "# Me identifico\n",
    "Entrez.email = 'earrieta@lcg.unam.mx'\n",
    "\n",
    "# Pido la info de la base de datos protein\n",
    "with Entrez.einfo(db='protein') as handle:\n",
    "    # Recolecto su info\n",
    "    record = Entrez.read(handle)\n",
    "\n",
    "    # Recorro cada field\n",
    "    for field in record['DbInfo']['FieldList']:\n",
    "        # Imprimo solo el que me piden\n",
    "        if field['Name'] == 'ECNO':\n",
    "            print(field['Description'])\n",
    "\n",
    "    # Recorro cada link\n",
    "    for link in record['DbInfo']['LinkList']:\n",
    "        # Imprimo solo la que me piden\n",
    "        if link['Name'] =='protein_protein_small_genome':\n",
    "            print (link['Description'])"
   ]
  },
  {
   "cell_type": "markdown",
   "metadata": {},
   "source": [
    "<a id=\"Ejercicio_4\"></a>\n",
    "\n",
    "## <span style=\"color:yellow\"> Ejercicio_4</span>\n",
    "Automaticen para buscar los siguientes genes en la base de datos nucleotide y guarden las secuencias de las proteínas en un archivo fasta: \n",
    "    \n",
    "    \n",
    "    Organismo: Notoryctes typhlops             Genes: PNOC y RUNX2\n",
    "    Organismo: Cypripedium guttatum            Genes: matK\n",
    "    Organismo: Hepatitis B virus               Genes: X                     Aislado: migrant 467"
   ]
  },
  {
   "cell_type": "markdown",
   "metadata": {},
   "source": [
    "<span style=\"color:green\">Como la tarea lo pide automatizado, quise que las especificaciones vengan de un diccionario (en esta ocasion la construcción es manual, pero se entiende que se va a recuperar de algún proceso anterior).</span>"
   ]
  },
  {
   "cell_type": "code",
   "execution_count": 2,
   "metadata": {},
   "outputs": [],
   "source": [
    "from Bio import Entrez\n",
    "\n",
    "'''INPUT'''\n",
    "# Genero el diciconario de la búsqueda\n",
    "# Las key será los organismos\n",
    "# Los values una tuplas, donde el primer elemento es una lista de genes y el segundo con caracteristica de la búsqueda\n",
    "busqueda = {'Notoryctes typhlops':(['PNOC', 'RUNX2']),\n",
    "            'Cypripedium guttatum':(['matK']),\n",
    "            'Hepatitis B virus':(['X'], 'migrant 467')\n",
    "           }\n",
    "# Aqui se especifica que característica es\n",
    "extraTupla = '[Isolate]'"
   ]
  },
  {
   "cell_type": "code",
   "execution_count": 3,
   "metadata": {},
   "outputs": [
    {
     "data": {
      "text/plain": [
       "['347453667', '1183154904', '635173148', '299836331']"
      ]
     },
     "execution_count": 3,
     "metadata": {},
     "output_type": "execute_result"
    }
   ],
   "source": [
    "# Una lista vacía que contre los ID para Entrez\n",
    "UIDs = list()\n",
    "\n",
    "# Recorro el diccionario con key y value\n",
    "for organism, more in busqueda.items():\n",
    "    \n",
    "    # Si es el caso complejo...\n",
    "    if type(more) == tuple:\n",
    "        # Recorro cada gene\n",
    "        for gene in more[0]:\n",
    "            # Genero cada termino de búsqueda anezando la característica extra\n",
    "            termino = '{}[Organism] AND {}[Gene] AND {}{}'.format(organism, gene, more[1], extraTupla)\n",
    "            \n",
    "            # Aqui hago la consulta para recuperar el UID\n",
    "            with Entrez.esearch(db='nucleotide', term= termino) as handle:\n",
    "                # Recupero el ID del primer resultado (solo será una en total por como estpa planteada la actividad)\n",
    "                UIDs.append(Entrez.read(handle)['IdList'][0])\n",
    "    \n",
    "    # Si el caso simple\n",
    "    else:\n",
    "        # Recorro cada gen\n",
    "        for gene in more:\n",
    "            # Gnero un término de busqyeda por cada gen\n",
    "            termino = '{}[Organism] AND {}[Gene]'.format(organism, gene)\n",
    "            \n",
    "            # Hago la consulta\n",
    "            with Entrez.esearch(db='nucleotide', term= termino) as handle:\n",
    "                # Recupero el ID del primer resultado\n",
    "                UIDs.append(Entrez.read(handle)['IdList'][0])\n",
    "\n",
    "# Vemos la lista           \n",
    "UIDs"
   ]
  },
  {
   "cell_type": "code",
   "execution_count": 4,
   "metadata": {},
   "outputs": [],
   "source": [
    "from Bio import SeqIO\n",
    "\n",
    "# Aqui recuperaremos el fasta de cada UID\n",
    "for UID in UIDs:\n",
    "    # Hago la consulta, le pido fasta y creo un archivo vacío .fa por cada UID\n",
    "    with Entrez.efetch(db=\"nucleotide\", id=UID, rettype='fasta', retmode=\"text\") as handle, \\\n",
    "    open(UID + '.fa', 'w') as output:\n",
    "        \n",
    "            # Leo lo obtenido y lo guardo en el archivo\n",
    "            SeqIO.write(SeqIO.read(handle, 'fasta'), output, 'fasta')"
   ]
  },
  {
   "cell_type": "markdown",
   "metadata": {},
   "source": [
    "<a id=\"DONTCLICKME\"></a>\n",
    "## <span style=\"color:yellow\"> CHOMP!</span>\n",
    "![Te dije que no le dieras clic](https://m.gifanimados.com/Gifs-Animales/Animaciones-Animales-Marinos/Peces/Tiburones/Boca-Tiburon-69162.gif)"
   ]
  }
 ],
 "metadata": {
  "kernelspec": {
   "display_name": "Python 3",
   "language": "python",
   "name": "python3"
  },
  "language_info": {
   "codemirror_mode": {
    "name": "ipython",
    "version": 3
   },
   "file_extension": ".py",
   "mimetype": "text/x-python",
   "name": "python",
   "nbconvert_exporter": "python",
   "pygments_lexer": "ipython3",
   "version": "3.7.6"
  }
 },
 "nbformat": 4,
 "nbformat_minor": 4
}
