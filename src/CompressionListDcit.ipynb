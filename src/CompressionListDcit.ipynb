{
 "cells": [
  {
   "cell_type": "markdown",
   "metadata": {},
   "source": [
    "# COMPREHENSIÓN DE LISTAS Y DICCIONARIOS\n",
    "\n",
    "Elaborado por <span style=\"color:darkslateblue\">Eduardo Arrieta</span>\n",
    "\n",
    "## índice\n",
    "\n",
    "1. [Introducción](#p1)\n",
    "\n",
    "2. [Antecedentes](#p2)\n",
    "\n",
    "3. [Comprehensión de listas](#p3)\n",
    "\n",
    "4. [Comprehensión de diccionarios](#p4)\n",
    "\n",
    "5. [Ciclos anidados y condicionales](#p5)\n",
    "\n",
    "6. [Despedida y Referencias](#p6)"
   ]
  },
  {
   "cell_type": "markdown",
   "metadata": {},
   "source": [
    "<a name=\"p1\"></a>\n",
    "\n",
    "## Introducción\n",
    "\n",
    "Hola querido estudiante.\n",
    "Deja te presento este notebook, es un archivo con celdas de código ejcutable, en este tipo de docuemntos uno puede almacenar código, texto markdow y texto plano, es muy útil cuando uno quiere explicar un tema que tengan que ver con esas tres cosas. Este notebook usa un kernel de Python3.\n",
    "\n",
    "Esta ocasión te enseñaré los que son las comprehensiones de lsitas y de diccionarios, práctica que te resultará necesaria para hacer código rápido en Python."
   ]
  },
  {
   "cell_type": "markdown",
   "metadata": {},
   "source": [
    "<a name=\"p2\"></a>\n",
    "\n",
    "## Antecedentes\n",
    "\n",
    "Cuando uno trabaja con datos gigantes, la optimización de código es muy importante, pues, al correr los procesos estos demorarán bastante y reducir el tiempo de espera es algo que todos queremos. En el caso de python, un simple cambio en la escritura del código te puede ahorrar horas. "
   ]
  },
  {
   "cell_type": "markdown",
   "metadata": {},
   "source": [
    "<a name=\"p3\"></a>\n",
    "\n",
    "## Comprehensión de listas\n",
    "\n",
    "### Listas\n",
    "![Listas en Python](https://s3-us-west-2.amazonaws.com/devcodepro/media/tutorials/listas-python-t1.jpg)\n",
    "\n",
    "Una lista en python, $list()$, es un objeto que te permite guardar otros objetos dentro de ella. Las listas están construidas de tal manera que almacena las direcciones de otros objetos (punteros), por lo que puedes almacenar en ella diferentes tipos de objetos, una ventaja sobre los vectores.\n",
    "\n",
    "Como todo objeto, las listas tienen métodos que ayudan al usurio al manipular el contenido de ellos. Un método muy utilizado en las listas es $.append()$, este permite agregar un elemento nuevo al final de la lista.\n",
    "\n",
    "Veamos el siguiente ejemplo:"
   ]
  },
  {
   "cell_type": "code",
   "execution_count": 29,
   "metadata": {},
   "outputs": [
    {
     "name": "stdout",
     "output_type": "stream",
     "text": [
      "['Gatitos', 'Perritos', 'Hormigas', 'Hamsters']\n",
      "['Gatitos', 'Perritos', 'Hormigas', 'Hamsters', 'Axolotl']\n"
     ]
    }
   ],
   "source": [
    "mascotas = ['Gatitos',\n",
    "            'Perritos',\n",
    "            'Hormigas',\n",
    "            'Hamsters']\n",
    "\n",
    "print(mascotas)\n",
    "\n",
    "# Si se tienen las condiciones, se pueden adoptar Axolotl\n",
    "\n",
    "mascotas.append('Axolotl')\n",
    "\n",
    "print(mascotas)"
   ]
  },
  {
   "cell_type": "markdown",
   "metadata": {},
   "source": [
    "### Comprehensión\n",
    "\n",
    "Pero al tratarse de cosas más pesadas, como la extracción de datos biológicos de un archivo, el llamar al método $.append()$ resulta algo tardado al momento de armar una lista dentro de cliclos. \n",
    "\n",
    "Para ahorarse la llamada al método, se puede armar una lista dentro de la misma escritura del ciclo.\n",
    "\n",
    "Hagamos una comparación usando el comando mágigo $timeit$ entre generar una lista con $.append()$ y con comprehensión:"
   ]
  },
  {
   "cell_type": "code",
   "execution_count": 17,
   "metadata": {},
   "outputs": [
    {
     "name": "stdout",
     "output_type": "stream",
     "text": [
      "23.2 ms ± 2.49 ms per loop (mean ± std. dev. of 7 runs, 10 loops each)\n"
     ]
    }
   ],
   "source": [
    "%%timeit\n",
    "\n",
    "# Lista vacía\n",
    "myList = list()\n",
    "\n",
    "# Método dentro del for\n",
    "for i in range(0, 10000):\n",
    "    myList.append(i**17)"
   ]
  },
  {
   "cell_type": "code",
   "execution_count": 18,
   "metadata": {},
   "outputs": [
    {
     "name": "stdout",
     "output_type": "stream",
     "text": [
      "18.3 ms ± 1.75 ms per loop (mean ± std. dev. of 7 runs, 10 loops each)\n"
     ]
    }
   ],
   "source": [
    "%%timeit\n",
    "\n",
    "# Lista vacía\n",
    "myList = list()\n",
    "\n",
    "myList = [i**17 for i in range(0, 10000)]"
   ]
  },
  {
   "cell_type": "markdown",
   "metadata": {},
   "source": [
    "Como puedes notar, el tiempo en elevar a al 17ava potencia un conjunto de números del 0 al 10 000 se ve reducido en la comprehensión.\n",
    "\n",
    "La sintaxis de una comprehensión es la siguiente:\n",
    "    $tuLista$ $=$ $[elementoAguardar$ $for$ $iterante$ $in$ $objetoIterable]$\n",
    "\n",
    "El $iterante$ puede ser el mismo que el $objetoAguardar$, o puedes jugar con él para generar tu objeto a guardar en cada iteración del for."
   ]
  },
  {
   "cell_type": "markdown",
   "metadata": {},
   "source": [
    "### Incoveninetes\n",
    "\n",
    "Como podrás notar, la asiganación de cada elemento a la lista nos limita a solo interactuar con solo elemento, es el problema de las comprehensiones, que no puedes desarrollar procesos más complejos que involucren más variables en cada iteración.\n",
    "\n",
    "Otra cosa, un punto del lem de Python es *\\\"Mejor explícito que implícito\\\"* por lo que algunos programadores prefieren seguir usando $.append()$ para llenar listas."
   ]
  },
  {
   "cell_type": "markdown",
   "metadata": {},
   "source": [
    "<a name=\"p4\"></a>\n",
    "\n",
    "## Comprehensión de diccionarios\n",
    "\n",
    "### Diccionarios\n",
    "Los diccionarios en Python es un objeto donde cada elemnto es la relación entre dos elementos entres si. Al primer elemento se le conoce como $key$ y al segundo como $value$.\n",
    "\n",
    "Así como las listas, tanto $key$ como $value$ pueden ser diferentes objetos.\n",
    "\n",
    "Hay varias formas de agregar más elementos a un diccionario, haremos la comparación com $.update()$."
   ]
  },
  {
   "cell_type": "code",
   "execution_count": 30,
   "metadata": {},
   "outputs": [
    {
     "name": "stdout",
     "output_type": "stream",
     "text": [
      "{0: 'a', 1: 'b', 2: 'c', 'z': 117}\n",
      "{0: 'a', 1: 'b', 2: 'c', 'z': 117, 3: 12, 'LaTarea': 'Ya La hice'}\n"
     ]
    }
   ],
   "source": [
    "myDict = {0:'a',\n",
    "         1:'b',\n",
    "         2:'c',\n",
    "         'z':117}\n",
    "\n",
    "print(myDict)\n",
    "\n",
    "myDict.update({3:12, 'LaTarea':'Ya La hice'})\n",
    "\n",
    "print(myDict)"
   ]
  },
  {
   "cell_type": "code",
   "execution_count": 37,
   "metadata": {},
   "outputs": [
    {
     "name": "stdout",
     "output_type": "stream",
     "text": [
      "31 ms ± 3.06 ms per loop (mean ± std. dev. of 7 runs, 10 loops each)\n"
     ]
    }
   ],
   "source": [
    "%%timeit\n",
    "\n",
    "# Diccionario vacío\n",
    "myDict = dict()\n",
    "\n",
    "for i in range(0, 10000):\n",
    "    myDict.update({i**17 : i**10})"
   ]
  },
  {
   "cell_type": "code",
   "execution_count": 38,
   "metadata": {},
   "outputs": [
    {
     "name": "stdout",
     "output_type": "stream",
     "text": [
      "25.5 ms ± 1.22 ms per loop (mean ± std. dev. of 7 runs, 10 loops each)\n"
     ]
    }
   ],
   "source": [
    "%%timeit\n",
    "\n",
    "# Diccionario vacío\n",
    "myDict = dict()\n",
    "\n",
    "myDict = {i**17 : i**10 for i in range(0, 10000)}"
   ]
  },
  {
   "cell_type": "markdown",
   "metadata": {},
   "source": [
    "La sintaxis obedece la misma lógica que una comprehensión de lista.\n",
    "\n",
    "Estructura:    $tuDict$ $=$ $\\{primerElemento:segundoElemento$ $for$ $iterante$ $in$ $iterable\\}$\n",
    "\n",
    "Un error muy común entre principiantes es querer hacer la comprehensión dentro de los elemntos a guardar, te doy un ejemplo:"
   ]
  },
  {
   "cell_type": "code",
   "execution_count": 43,
   "metadata": {},
   "outputs": [
    {
     "ename": "SyntaxError",
     "evalue": "invalid syntax (<ipython-input-43-777264890733>, line 3)",
     "output_type": "error",
     "traceback": [
      "\u001b[1;36m  File \u001b[1;32m\"<ipython-input-43-777264890733>\"\u001b[1;36m, line \u001b[1;32m3\u001b[0m\n\u001b[1;33m    otroDict = {for i in unaLista : i + 7}\u001b[0m\n\u001b[1;37m                  ^\u001b[0m\n\u001b[1;31mSyntaxError\u001b[0m\u001b[1;31m:\u001b[0m invalid syntax\n"
     ]
    }
   ],
   "source": [
    "unaLista = [1, 3, 7, 10]\n",
    "\n",
    "otroDict = {for i in unaLista : i + 7}"
   ]
  },
  {
   "cell_type": "markdown",
   "metadata": {},
   "source": [
    "Lo correcto sería:"
   ]
  },
  {
   "cell_type": "code",
   "execution_count": 44,
   "metadata": {},
   "outputs": [
    {
     "name": "stdout",
     "output_type": "stream",
     "text": [
      "{1: 8, 3: 10, 7: 14, 10: 17}\n"
     ]
    }
   ],
   "source": [
    "unaLista = [1, 3, 7, 10]\n",
    "\n",
    "otroDict = {i : i + 7 for i in unaLista}\n",
    "print(otroDict)"
   ]
  },
  {
   "cell_type": "markdown",
   "metadata": {},
   "source": [
    "### Incovenientes\n",
    "\n",
    "Las comprehensiones de diccionarios presentan los mismo incovenientes que las comprehensiones de listas."
   ]
  },
  {
   "cell_type": "markdown",
   "metadata": {},
   "source": [
    "<a name=\"p5\"></a>\n",
    "\n",
    "## Ciclos anidados y condicionales\n",
    "\n",
    "Para anidar un ciclo a otro dentro de una comprehensión solo basta con escriber delante del último ciclo. De igualmanera trabajan los condiconales en las comprehensiones.\n",
    "\n",
    "Veamos un mismo ejemplo escrito en las dos formas:"
   ]
  },
  {
   "cell_type": "code",
   "execution_count": 41,
   "metadata": {},
   "outputs": [
    {
     "name": "stdout",
     "output_type": "stream",
     "text": [
      "[0, 1, 2, 2, 3, 4, 4, 5, 6, 6, 7, 8, 8, 9, 10]\n"
     ]
    }
   ],
   "source": [
    "otraLista = list()\n",
    "\n",
    "for i in range(0, 10):\n",
    "    for j in range(0, 3):\n",
    "        if i % 2 == 0:\n",
    "            otraLista.append(i + j)\n",
    "            \n",
    "print(otraLista)"
   ]
  },
  {
   "cell_type": "code",
   "execution_count": 42,
   "metadata": {},
   "outputs": [
    {
     "name": "stdout",
     "output_type": "stream",
     "text": [
      "[0, 1, 2, 2, 3, 4, 4, 5, 6, 6, 7, 8, 8, 9, 10]\n"
     ]
    }
   ],
   "source": [
    "otraLista = list()\n",
    "\n",
    "otraLista = [i + j for i in range(0, 10) for j in range(0, 3) if i % 2 == 0]\n",
    "            \n",
    "print(otraLista)"
   ]
  },
  {
   "cell_type": "markdown",
   "metadata": {},
   "source": [
    "<a name=\"p6\"></a>\n",
    "\n",
    "## Despedida y Referencias\n",
    "\n",
    "Gracias por pasarte por mi clase, te dejo un link que te lleva a la docuemntación de Python sobre sus estructuras de datos para que veas qué otros métodos les puedes aplicar.\n",
    "\n",
    "Pícale aquí -> [Data Structures](https://docs.python.org/3/tutorial/datastructures.html)"
   ]
  }
 ],
 "metadata": {
  "kernelspec": {
   "display_name": "Python 3",
   "language": "python",
   "name": "python3"
  },
  "language_info": {
   "codemirror_mode": {
    "name": "ipython",
    "version": 3
   },
   "file_extension": ".py",
   "mimetype": "text/x-python",
   "name": "python",
   "nbconvert_exporter": "python",
   "pygments_lexer": "ipython3",
   "version": "3.7.6"
  }
 },
 "nbformat": 4,
 "nbformat_minor": 4
}
